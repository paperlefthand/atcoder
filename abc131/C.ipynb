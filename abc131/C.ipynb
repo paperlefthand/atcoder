{
 "cells": [
  {
   "cell_type": "code",
   "execution_count": 68,
   "metadata": {},
   "outputs": [],
   "source": [
    "def countDivBy(d,a,b):\n",
    "    resB=b//d\n",
    "    resA=(a-1)//d\n",
    "    res = resB-resA\n",
    "    return res\n",
    "\n",
    "def gcd(c,d):\n",
    "    if(d>c):\n",
    "        c,d = d,c\n",
    "    a,b=c,d\n",
    "    r=a%b\n",
    "    while (r>0):      \n",
    "        a = b\n",
    "        b = r \n",
    "        r = a%b\n",
    "    return b"
   ]
  },
  {
   "cell_type": "code",
   "execution_count": 72,
   "metadata": {},
   "outputs": [
    {
     "name": "stdout",
     "output_type": "stream",
     "text": [
      "314159265358979323 846264338327950288 419716939 937510582\n",
      "532105071133627368\n"
     ]
    }
   ],
   "source": [
    "# TODO\n",
    "A = list(map(int, input().split()))\n",
    "a, b, c, d = A\n",
    "g = gcd(c,d)\n",
    "lcm = (c*d) // g\n",
    "ans = b - a + 1 - countDivBy(c,a,b) - countDivBy(d,a,b) + countDivBy(lcm,a,b)\n",
    "print(ans)"
   ]
  }
 ],
 "metadata": {
  "kernelspec": {
   "display_name": "Python 3",
   "language": "python",
   "name": "python3"
  },
  "language_info": {
   "codemirror_mode": {
    "name": "ipython",
    "version": 3
   },
   "file_extension": ".py",
   "mimetype": "text/x-python",
   "name": "python",
   "nbconvert_exporter": "python",
   "pygments_lexer": "ipython3",
   "version": "3.8.1"
  }
 },
 "nbformat": 4,
 "nbformat_minor": 4
}
