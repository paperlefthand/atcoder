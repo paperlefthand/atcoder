{
 "cells": [
  {
   "cell_type": "code",
   "execution_count": 1,
   "metadata": {},
   "outputs": [
    {
     "name": "stdout",
     "output_type": "stream",
     "text": [
      "2 2000\n",
      "3 500\n",
      "5 800\n"
     ]
    }
   ],
   "source": [
    "D,G = map(int, input().split())\n",
    "ps,cs = [],[]\n",
    "for i in range(D):\n",
    "    p,c = map(int, input().split())\n",
    "    ps.append(p)\n",
    "    cs.append(c)"
   ]
  },
  {
   "cell_type": "code",
   "execution_count": 2,
   "metadata": {},
   "outputs": [],
   "source": [
    "limit=1<<D\n",
    "ans = sum(ps)\n",
    "for a in range(0,limit):\n",
    "    s,p,i = 0,0,D-1\n",
    "    b = 1<<(D-1)\n",
    "    upperIndex = 0\n",
    "    while (s<G and b>0):\n",
    "        if (a&b!=0):\n",
    "            s += ps[i]*100*(i+1)+cs[i]\n",
    "            p += ps[i]\n",
    "        else:\n",
    "            upperIndex=max(upperIndex,i)\n",
    "        b>>=1\n",
    "        i-=1\n",
    "#         print(a,s)\n",
    "\n",
    "    for j in range(ps[upperIndex]):\n",
    "        if (s>=G):\n",
    "            ans = min(ans,p)\n",
    "            break\n",
    "        s += 100*(upperIndex+1)\n",
    "        p += 1"
   ]
  },
  {
   "cell_type": "code",
   "execution_count": 4,
   "metadata": {},
   "outputs": [
    {
     "data": {
      "text/plain": [
       "7"
      ]
     },
     "execution_count": 4,
     "metadata": {},
     "output_type": "execute_result"
    }
   ],
   "source": [
    "ans"
   ]
  },
  {
   "cell_type": "code",
   "execution_count": null,
   "metadata": {},
   "outputs": [],
   "source": []
  }
 ],
 "metadata": {
  "kernelspec": {
   "display_name": "Python 3",
   "language": "python",
   "name": "python3"
  },
  "language_info": {
   "codemirror_mode": {
    "name": "ipython",
    "version": 3
   },
   "file_extension": ".py",
   "mimetype": "text/x-python",
   "name": "python",
   "nbconvert_exporter": "python",
   "pygments_lexer": "ipython3",
   "version": "3.8.0"
  }
 },
 "nbformat": 4,
 "nbformat_minor": 4
}
